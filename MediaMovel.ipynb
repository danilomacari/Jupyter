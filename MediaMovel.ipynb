{
 "cells": [
  {
   "cell_type": "code",
   "execution_count": 1,
   "id": "conscious-partnership",
   "metadata": {},
   "outputs": [],
   "source": [
    "numeros=[5,3,7,90,1,4,3,6,8,4,2,6,9,8,5,1,3,4,8,10,2,20]\n",
    "janela=3\n",
    "mm=0."
   ]
  },
  {
   "cell_type": "code",
   "execution_count": 2,
   "id": "mechanical-probe",
   "metadata": {},
   "outputs": [
    {
     "name": "stdout",
     "output_type": "stream",
     "text": [
      "0 5 0.0\n",
      "1 3 0.0\n",
      "2 7 5.0\n",
      "3 90 33.333333333333336\n",
      "4 1 32.666666666666664\n",
      "5 4 31.666666666666668\n",
      "6 3 2.6666666666666665\n",
      "7 6 4.333333333333333\n",
      "8 8 5.666666666666667\n",
      "9 4 6.0\n",
      "10 2 4.666666666666667\n",
      "11 6 4.0\n",
      "12 9 5.666666666666667\n",
      "13 8 7.666666666666667\n",
      "14 5 7.333333333333333\n",
      "15 1 4.666666666666667\n",
      "16 3 3.0\n",
      "17 4 2.6666666666666665\n",
      "18 8 5.0\n",
      "19 10 7.333333333333333\n",
      "20 2 6.666666666666667\n",
      "21 20 10.666666666666666\n"
     ]
    }
   ],
   "source": [
    "for idx,val in enumerate(numeros):\n",
    "    if idx+1>=janela: mm=sum(numeros[idx+1-janela:idx+1])/janela\n",
    "    print(idx,numeros[idx],mm)"
   ]
  }
 ],
 "metadata": {
  "kernelspec": {
   "display_name": "Python 3",
   "language": "python",
   "name": "python3"
  },
  "language_info": {
   "codemirror_mode": {
    "name": "ipython",
    "version": 3
   },
   "file_extension": ".py",
   "mimetype": "text/x-python",
   "name": "python",
   "nbconvert_exporter": "python",
   "pygments_lexer": "ipython3",
   "version": "3.7.3"
  }
 },
 "nbformat": 4,
 "nbformat_minor": 5
}
